{
 "cells": [
  {
   "cell_type": "markdown",
   "metadata": {},
   "source": [
    "<h3>Algorithmic Machine Learning Challenge</h3>\n",
    "<h1>Plankton Image Classification</h1>\n",
    "<hr style=\"height:2px;border:none;color:#333;background-color:#333;\"/>"
   ]
  },
  {
   "cell_type": "markdown",
   "metadata": {},
   "source": [
    "Plankton comprises all the organisms freely drifting with ocean currents. These life forms are a critically important piece of oceanic ecosystems, accounting for more than half the primary production on earth and nearly half the total carbon fixed in the global carbon cycle. They also form the foundation of aquatic food webs, including those of large, commercially important fisheries. Loss of plankton populations could result in ecological upheaval as well as negative societal impacts, particularly in indigenous cultures and the developing world. Plankton’s global significance makes their population levels an ideal measure of the health of the world’s oceans and ecosystems.\n",
    "\n",
    "Traditional methods for measuring and monitoring plankton populations are time consuming and cannot scale to the granularity or scope necessary for large-scale studies. Improved approaches are needed. One such approach is through the use of underwater imagery sensors. \n",
    "\n",
    "In this challenge, which was prepared in cooperation with the Laboratoire d’Océanographie de Villefranche, jointly run by Sorbonne Université and CNRS, plankton images were acquired in the bay of Villefranche, weekly since 2013 and manually engineered features were computed on each imaged object. \n",
    "\n",
    "This challenge aims at developing solid approaches to plankton image classification. We will compare methods based on carefully (but manually) engineered features, with “Deep Learning” methods in which features will be learned from image data alone.\n",
    "\n",
    "The purpose of this challenge is for you to learn about the commonly used paradigms when working with computer vision problems. This means you can choose one of the following paths:\n",
    "\n",
    "- Work directly with the provided images, e.g. using a (convolutional) neural network\n",
    "- Work with the supplied features extracted from the images (*native* or *skimage* or both of them)\n",
    "- Extract your own features from the provided images using a technique of your choice\n"
   ]
  },
  {
   "cell_type": "markdown",
   "metadata": {},
   "source": [
    "# Data Exploration and Visualization\n",
    "<hr style=\"height:1px;border:none;color:#333;background-color:#333;\" />    "
   ]
  },
  {
   "cell_type": "markdown",
   "metadata": {},
   "source": [
    "<div class=\"\">\n",
    "    <h3>1. Image Visualization</h3>\n",
    "</div>"
   ]
  },
  {
   "cell_type": "markdown",
   "metadata": {},
   "source": [
    "In this section, we will have a first glance on the image data. As the instruction, all the images are in .jpg format and located in the *imgs.zip* file. Because of the limition in disk size, we need a function to load them into memory instead of extracting them into disk.\n"
   ]
  },
  {
   "cell_type": "code",
   "execution_count": 1,
   "metadata": {},
   "outputs": [],
   "source": [
    "import zipfile\n",
    "from io import BytesIO\n",
    "from PIL import Image\n",
    "\n",
    "def extract_zip_to_memory(input_zip):\n",
    "    '''\n",
    "    This function extracts the images stored inside the given zip file.\n",
    "    It stores the result in a python dictionary.\n",
    "    \n",
    "    input_zip (string): path to the zip file\n",
    "    \n",
    "    returns (dict): {filename (string): image_file (bytes)}\n",
    "    '''\n",
    "    input_zip=zipfile.ZipFile(input_zip)\n",
    "    return {name: BytesIO(input_zip.read(name)) for name in input_zip.namelist() if name.endswith('.jpg')}\n"
   ]
  },
  {
   "cell_type": "code",
   "execution_count": 2,
   "metadata": {},
   "outputs": [],
   "source": [
    "base = \"/mnt/datasets/plankton/flowcam/\"\n",
    "\n",
    "img_files = extract_zip_to_memory(base + \"imgs.zip\")"
   ]
  },
  {
   "cell_type": "markdown",
   "metadata": {},
   "source": [
    "Display some images here"
   ]
  },
  {
   "cell_type": "code",
   "execution_count": 3,
   "metadata": {},
   "outputs": [
    {
     "data": {
      "image/png": "[encoded data removed]",
      "text/plain": [
       "<PIL.JpegImagePlugin.JpegImageFile image mode=L size=50x55 at 0x7FB66C4FF2B0>"
      ]
     },
     "metadata": {},
     "output_type": "display_data"
    },
    {
     "name": "stdout",
     "output_type": "stream",
     "text": [
      "Image size:  (50, 55)\n",
      "Image mode:  L\n"
     ]
    },
    {
     "data": {
      "image/png": "[encoded data removed]",
      "text/plain": [
       "<PIL.JpegImagePlugin.JpegImageFile image mode=L size=83x156 at 0x7FB64BEE1860>"
      ]
     },
     "metadata": {},
     "output_type": "display_data"
    },
    {
     "name": "stdout",
     "output_type": "stream",
     "text": [
      "Image size:  (83, 156)\n",
      "Image mode:  L\n"
     ]
    }
   ],
   "source": [
    "# Display example images\n",
    "img1 = Image.open(img_files['imgs/32738710.jpg'])\n",
    "img2 = Image.open(img_files['imgs/32738711.jpg'])\n",
    "display(img1)\n",
    "print(\"Image size: \", img1.size)\n",
    "print(\"Image mode: \", img1.mode)\n",
    "display(img2)\n",
    "print(\"Image size: \", img2.size)\n",
    "print(\"Image mode: \", img2.mode)\n"
   ]
  },
  {
   "cell_type": "markdown",
   "metadata": {},
   "source": [
    "The very first observation shows that image size is variant. We will have a deeper exploration into these image after checking the non-labeled images if any."
   ]
  },
  {
   "cell_type": "markdown",
   "metadata": {},
   "source": [
    "<div class=\"\">\n",
    "    <h3>2. Data Exploration and Visualization</h3>\n",
    "</div>"
   ]
  },
  {
   "cell_type": "markdown",
   "metadata": {},
   "source": [
    "In this section, we will explore the distribution of the labels we have, non-labeled images ...\n",
    "\n",
    "Fistly, we import necessary packages:\n"
   ]
  },
  {
   "cell_type": "code",
   "execution_count": 4,
   "metadata": {},
   "outputs": [],
   "source": [
    "import pandas as pd\n",
    "import numpy as np\n",
    "import matplotlib.pyplot as plt\n"
   ]
  },
  {
   "cell_type": "markdown",
   "metadata": {},
   "source": [
    "The **meta.csv** contains the image identifiers (objid) as well as the labels assigned to the images by human operators. Let's have a look on it:\n"
   ]
  },
  {
   "cell_type": "code",
   "execution_count": 5,
   "metadata": {},
   "outputs": [
    {
     "data": {
      "text/html": [
       "<div>\n",
       "<style scoped>\n",
       "    .dataframe tbody tr th:only-of-type {\n",
       "        vertical-align: middle;\n",
       "    }\n",
       "\n",
       "    .dataframe tbody tr th {\n",
       "        vertical-align: top;\n",
       "    }\n",
       "\n",
       "    .dataframe thead th {\n",
       "        text-align: right;\n",
       "    }\n",
       "</style>\n",
       "<table border=\"1\" class=\"dataframe\">\n",
       "  <thead>\n",
       "    <tr style=\"text-align: right;\">\n",
       "      <th></th>\n",
       "      <th>objid</th>\n",
       "      <th>projid</th>\n",
       "      <th>id</th>\n",
       "      <th>status</th>\n",
       "      <th>latitude</th>\n",
       "      <th>longitude</th>\n",
       "      <th>objdate</th>\n",
       "      <th>objtime</th>\n",
       "      <th>depth_min</th>\n",
       "      <th>depth_max</th>\n",
       "      <th>unique_name</th>\n",
       "      <th>lineage</th>\n",
       "      <th>level1</th>\n",
       "      <th>level2</th>\n",
       "    </tr>\n",
       "  </thead>\n",
       "  <tbody>\n",
       "    <tr>\n",
       "      <th>0</th>\n",
       "      <td>32756761.0</td>\n",
       "      <td>133</td>\n",
       "      <td>84963</td>\n",
       "      <td>V</td>\n",
       "      <td>43.683333</td>\n",
       "      <td>7.3</td>\n",
       "      <td>2013-09-19</td>\n",
       "      <td>00:09:00</td>\n",
       "      <td>0</td>\n",
       "      <td>75</td>\n",
       "      <td>detritus</td>\n",
       "      <td>/#/not-living/detritus</td>\n",
       "      <td>detritus</td>\n",
       "      <td>detritus</td>\n",
       "    </tr>\n",
       "    <tr>\n",
       "      <th>1</th>\n",
       "      <td>32759364.0</td>\n",
       "      <td>133</td>\n",
       "      <td>84963</td>\n",
       "      <td>V</td>\n",
       "      <td>43.683333</td>\n",
       "      <td>7.3</td>\n",
       "      <td>2013-09-19</td>\n",
       "      <td>00:09:00</td>\n",
       "      <td>0</td>\n",
       "      <td>75</td>\n",
       "      <td>detritus</td>\n",
       "      <td>/#/not-living/detritus</td>\n",
       "      <td>detritus</td>\n",
       "      <td>detritus</td>\n",
       "    </tr>\n",
       "    <tr>\n",
       "      <th>2</th>\n",
       "      <td>32758055.0</td>\n",
       "      <td>133</td>\n",
       "      <td>28299</td>\n",
       "      <td>V</td>\n",
       "      <td>43.683333</td>\n",
       "      <td>7.3</td>\n",
       "      <td>2013-09-19</td>\n",
       "      <td>00:09:00</td>\n",
       "      <td>0</td>\n",
       "      <td>75</td>\n",
       "      <td>Guinardia</td>\n",
       "      <td>/#/living/Eukaryota/Harosa/Stramenopiles/Ochro...</td>\n",
       "      <td>Guinardia</td>\n",
       "      <td>Rhizosolenids</td>\n",
       "    </tr>\n",
       "    <tr>\n",
       "      <th>3</th>\n",
       "      <td>32758988.0</td>\n",
       "      <td>133</td>\n",
       "      <td>92010</td>\n",
       "      <td>V</td>\n",
       "      <td>43.683333</td>\n",
       "      <td>7.3</td>\n",
       "      <td>2013-09-19</td>\n",
       "      <td>00:09:00</td>\n",
       "      <td>0</td>\n",
       "      <td>75</td>\n",
       "      <td>silks</td>\n",
       "      <td>/#/not-living/plastic/other/silks</td>\n",
       "      <td>silks</td>\n",
       "      <td>silks</td>\n",
       "    </tr>\n",
       "    <tr>\n",
       "      <th>4</th>\n",
       "      <td>32760598.0</td>\n",
       "      <td>133</td>\n",
       "      <td>92010</td>\n",
       "      <td>V</td>\n",
       "      <td>43.683333</td>\n",
       "      <td>7.3</td>\n",
       "      <td>2013-09-19</td>\n",
       "      <td>00:09:00</td>\n",
       "      <td>0</td>\n",
       "      <td>75</td>\n",
       "      <td>silks</td>\n",
       "      <td>/#/not-living/plastic/other/silks</td>\n",
       "      <td>silks</td>\n",
       "      <td>silks</td>\n",
       "    </tr>\n",
       "  </tbody>\n",
       "</table>\n",
       "</div>"
      ],
      "text/plain": [
       "        objid  projid     id status   latitude  longitude     objdate  \\\n",
       "0  32756761.0     133  84963      V  43.683333        7.3  2013-09-19   \n",
       "1  32759364.0     133  84963      V  43.683333        7.3  2013-09-19   \n",
       "2  32758055.0     133  28299      V  43.683333        7.3  2013-09-19   \n",
       "3  32758988.0     133  92010      V  43.683333        7.3  2013-09-19   \n",
       "4  32760598.0     133  92010      V  43.683333        7.3  2013-09-19   \n",
       "\n",
       "    objtime  depth_min  depth_max unique_name  \\\n",
       "0  00:09:00          0         75    detritus   \n",
       "1  00:09:00          0         75    detritus   \n",
       "2  00:09:00          0         75   Guinardia   \n",
       "3  00:09:00          0         75       silks   \n",
       "4  00:09:00          0         75       silks   \n",
       "\n",
       "                                             lineage     level1         level2  \n",
       "0                             /#/not-living/detritus   detritus       detritus  \n",
       "1                             /#/not-living/detritus   detritus       detritus  \n",
       "2  /#/living/Eukaryota/Harosa/Stramenopiles/Ochro...  Guinardia  Rhizosolenids  \n",
       "3                  /#/not-living/plastic/other/silks      silks          silks  \n",
       "4                  /#/not-living/plastic/other/silks      silks          silks  "
      ]
     },
     "metadata": {},
     "output_type": "display_data"
    },
    {
     "name": "stdout",
     "output_type": "stream",
     "text": [
      "<class 'pandas.core.frame.DataFrame'>\n",
      "RangeIndex: 243610 entries, 0 to 243609\n",
      "Data columns (total 14 columns):\n",
      "objid          243610 non-null float64\n",
      "projid         243610 non-null int64\n",
      "id             243610 non-null int64\n",
      "status         243610 non-null object\n",
      "latitude       243610 non-null float64\n",
      "longitude      243610 non-null float64\n",
      "objdate        243610 non-null object\n",
      "objtime        243610 non-null object\n",
      "depth_min      243610 non-null int64\n",
      "depth_max      243610 non-null int64\n",
      "unique_name    243610 non-null object\n",
      "lineage        243610 non-null object\n",
      "level1         240276 non-null object\n",
      "level2         242607 non-null object\n",
      "dtypes: float64(3), int64(4), object(7)\n",
      "memory usage: 26.0+ MB\n"
     ]
    }
   ],
   "source": [
    "# Load the meta.csv\n",
    "df_meta = pd.read_csv(base + 'meta.csv')\n",
    "\n",
    "# Display first 5 data\n",
    "display(df_meta[:5])\n",
    "\n",
    "# Data info\n",
    "df_meta.info()"
   ]
  },
  {
   "cell_type": "markdown",
   "metadata": {},
   "source": [
    "\n",
    "Our target is the level 2 classification, let's focus on the **objid** and **level2** columns:\n"
   ]
  },
  {
   "cell_type": "code",
   "execution_count": 6,
   "metadata": {},
   "outputs": [
    {
     "name": "stdout",
     "output_type": "stream",
     "text": [
      "Total n. of objects:  243610\n",
      "Total n. of labels:  40\n"
     ]
    }
   ],
   "source": [
    "# Total number of object\n",
    "no_target_obj = len(list(set(df_meta['objid'])))\n",
    "print(\"Total n. of objects: \", no_target_obj)\n",
    "\n",
    "# Total number of label2\n",
    "no_labeled_level2 = len(list(set(df_meta['level2'])))\n",
    "print(\"Total n. of labels: \", no_labeled_level2)\n",
    "\n",
    "# Count number of object of each label\n",
    "list_level2 = df_meta.groupby('level2', as_index=False).objid.count().sort_values(by=['objid'], \\\n",
    "                            ascending=False).reset_index().rename(columns={'objid':'count'})"
   ]
  },
  {
   "cell_type": "markdown",
   "metadata": {},
   "source": [
    "\n",
    "Let's check the distribution of labels:\n"
   ]
  },
  {
   "cell_type": "code",
   "execution_count": 8,
   "metadata": {},
   "outputs": [
    {
     "data": {
      "image/png": "[encoded data removed]",
      "text/plain": [
       "<Figure size 792x432 with 1 Axes>"
      ]
     },
     "metadata": {},
     "output_type": "display_data"
    },
    {
     "name": "stdout",
     "output_type": "stream",
     "text": [
      "Minimum number objects of label:  12\n",
      "Total labels have less than 1000 objects:  22\n"
     ]
    }
   ],
   "source": [
    "# Plot the histogram number of object of each label.\n",
    "y = range(len(list_level2))\n",
    "\n",
    "fig, ax = plt.subplots()\n",
    "fig.set_size_inches(11,6)\n",
    "\n",
    "list_level2['count'].plot(kind='barh', ax=ax)\n",
    "ax.set_xlabel('Number of object')\n",
    "ax.set_ylabel('Label')\n",
    "ax.set_title('Number of object of each label')\n",
    "plt.yticks(y, list_level2['level2'])\n",
    "\n",
    "plt.show()\n",
    "print(\"Minimum number objects of label: \", min(list_level2['count']))\n",
    "print(\"Total labels have less than 1000 objects: \", len(list_level2[list_level2['count'] < 1000]))"
   ]
  },
  {
   "cell_type": "markdown",
   "metadata": {},
   "source": [
    "<div>\n",
    "    From the chart, the category <strong>Detrius</strong> has a significantly larger number of images compared to other labels. It has 138,439 samples while the second largest label <strong>Feces</strong> has only 26,936, just one over fifth amount objects of <strong>Detrius</strong>. Beside, there are 22 labels, more than half of the total number of labels, have less than 1000 objects. This is an <strong>imbalanced dataset</strong>. \n",
    "</div>"
   ]
  },
  {
   "cell_type": "markdown",
   "metadata": {},
   "source": [
    "<div class=\"alert alert-warning\">\n",
    "    Check the number of missing data\n",
    "</div>"
   ]
  },
  {
   "cell_type": "code",
   "execution_count": 79,
   "metadata": {},
   "outputs": [
    {
     "data": {
      "text/html": [
       "<div>\n",
       "<style scoped>\n",
       "    .dataframe tbody tr th:only-of-type {\n",
       "        vertical-align: middle;\n",
       "    }\n",
       "\n",
       "    .dataframe tbody tr th {\n",
       "        vertical-align: top;\n",
       "    }\n",
       "\n",
       "    .dataframe thead th {\n",
       "        text-align: right;\n",
       "    }\n",
       "</style>\n",
       "<table border=\"1\" class=\"dataframe\">\n",
       "  <thead>\n",
       "    <tr style=\"text-align: right;\">\n",
       "      <th></th>\n",
       "      <th>Total</th>\n",
       "      <th>Percent</th>\n",
       "    </tr>\n",
       "  </thead>\n",
       "  <tbody>\n",
       "    <tr>\n",
       "      <th>level1</th>\n",
       "      <td>3334</td>\n",
       "      <td>0.013686</td>\n",
       "    </tr>\n",
       "    <tr>\n",
       "      <th>level2</th>\n",
       "      <td>1003</td>\n",
       "      <td>0.004117</td>\n",
       "    </tr>\n",
       "    <tr>\n",
       "      <th>lineage</th>\n",
       "      <td>0</td>\n",
       "      <td>0.000000</td>\n",
       "    </tr>\n",
       "  </tbody>\n",
       "</table>\n",
       "</div>"
      ],
      "text/plain": [
       "         Total   Percent\n",
       "level1    3334  0.013686\n",
       "level2    1003  0.004117\n",
       "lineage      0  0.000000"
      ]
     },
     "execution_count": 79,
     "metadata": {},
     "output_type": "execute_result"
    }
   ],
   "source": [
    "#missing data\n",
    "total = df_meta.isnull().sum().sort_values(ascending=False)\n",
    "percent = (df_meta.isnull().sum()/df_meta.isnull().count()).sort_values(ascending=False)\n",
    "missing_data = pd.concat([total, percent], axis=1, keys=['Total', 'Percent'])\n",
    "missing_data.head(3)"
   ]
  },
  {
   "cell_type": "markdown",
   "metadata": {},
   "source": [
    "<div>\n",
    "There are 1003 images that have null value for level2 which takes around 0.004% of total. The number of unlabel images is insignificant then we decided to ignore them. \n",
    "</div>"
   ]
  },
  {
   "cell_type": "code",
   "execution_count": 80,
   "metadata": {},
   "outputs": [
    {
     "data": {
      "text/html": [
       "<div>\n",
       "<style scoped>\n",
       "    .dataframe tbody tr th:only-of-type {\n",
       "        vertical-align: middle;\n",
       "    }\n",
       "\n",
       "    .dataframe tbody tr th {\n",
       "        vertical-align: top;\n",
       "    }\n",
       "\n",
       "    .dataframe thead th {\n",
       "        text-align: right;\n",
       "    }\n",
       "</style>\n",
       "<table border=\"1\" class=\"dataframe\">\n",
       "  <thead>\n",
       "    <tr style=\"text-align: right;\">\n",
       "      <th></th>\n",
       "      <th>Total</th>\n",
       "      <th>Percent</th>\n",
       "    </tr>\n",
       "  </thead>\n",
       "  <tbody>\n",
       "    <tr>\n",
       "      <th>level1</th>\n",
       "      <td>2618</td>\n",
       "      <td>0.010791</td>\n",
       "    </tr>\n",
       "    <tr>\n",
       "      <th>level2</th>\n",
       "      <td>0</td>\n",
       "      <td>0.000000</td>\n",
       "    </tr>\n",
       "    <tr>\n",
       "      <th>lineage</th>\n",
       "      <td>0</td>\n",
       "      <td>0.000000</td>\n",
       "    </tr>\n",
       "  </tbody>\n",
       "</table>\n",
       "</div>"
      ],
      "text/plain": [
       "         Total   Percent\n",
       "level1    2618  0.010791\n",
       "level2       0  0.000000\n",
       "lineage      0  0.000000"
      ]
     },
     "execution_count": 80,
     "metadata": {},
     "output_type": "execute_result"
    }
   ],
   "source": [
    "df_meta = df_meta.dropna(subset=['level2'])\n",
    "\n",
    "total = df_meta.isnull().sum().sort_values(ascending=False)\n",
    "percent = (df_meta.isnull().sum()/df_meta.isnull().count()).sort_values(ascending=False)\n",
    "missing_data = pd.concat([total, percent], axis=1, keys=['Total', 'Percent'])\n",
    "missing_data.head(3)"
   ]
  },
  {
   "cell_type": "markdown",
   "metadata": {},
   "source": [
    "<div>\n",
    "Now we have a full label data set, let's explore the distributio of image size and image channels.\n",
    "</div>"
   ]
  },
  {
   "cell_type": "code",
   "execution_count": 24,
   "metadata": {},
   "outputs": [],
   "source": [
    "# Want to know how we should format the height x width image data dimensions\n",
    "# for inputting to a keras model    \n",
    "from scipy import stats\n",
    "\n",
    "heights = []\n",
    "widths = []\n",
    "dimensions = []\n",
    "img_count = 0\n",
    "\n",
    "for img_id in df_meta['objid']:\n",
    "    img_path = 'imgs/' + str(int(img_id)) + '.jpg'\n",
    "    if img_path in img_files:\n",
    "        im = Image.open(img_files[img_path])\n",
    "        data = np.array(im)\n",
    "        heights.append(data.shape[0])\n",
    "        widths.append(data.shape[1])\n",
    "        dimensions.append(1 if im.mode == 'L' else 3)\n",
    "        img_count += 1\n",
    "    else:\n",
    "        df_meta.drop(index=i)\n",
    "    \n",
    "avg_height = sum(heights) / len(heights)\n",
    "avg_width = sum(widths) / len(widths)\n"
   ]
  },
  {
   "cell_type": "code",
   "execution_count": 25,
   "metadata": {},
   "outputs": [
    {
     "name": "stdout",
     "output_type": "stream",
     "text": [
      "Average Height: 109.33858216000985\n",
      "Max Height: 739\n",
      "Min Height: 2\n",
      "\n",
      "\n",
      "Average Width: 86.62893559377694\n",
      "Max Width: 972\n",
      "Min Width: 2\n",
      "Average size for Width and Height: 97.9837588768934\n",
      "\n",
      "\n",
      "Total image: 243610\n",
      "Dimensions: 1\n"
     ]
    },
    {
     "data": {
      "image/png": "[encoded data removed]",
      "text/plain": [
       "<Figure size 432x288 with 1 Axes>"
      ]
     },
     "metadata": {},
     "output_type": "display_data"
    },
    {
     "data": {
      "text/plain": [
       "<Figure size 432x288 with 0 Axes>"
      ]
     },
     "metadata": {},
     "output_type": "display_data"
    }
   ],
   "source": [
    "print(\"Average Height: \" + str(avg_height))\n",
    "print(\"Max Height: \" + str(max(heights)))\n",
    "print(\"Min Height: \" + str(min(heights)))\n",
    "print('\\n')\n",
    "print(\"Average Width: \" + str(avg_width))\n",
    "print(\"Max Width: \" + str(max(widths)))\n",
    "print(\"Min Width: \" + str(min(widths)))\n",
    "avg_width_weight = (avg_width + avg_height) / 2\n",
    "print(\"Average size for Width and Height: \" + str(avg_width_weight))\n",
    "print('\\n')\n",
    "print('Total image: ' + str(img_count))\n",
    "print(\"Image channels: \" + str(max(dimensions)))\n",
    "\n",
    "sns.distplot(heights)\n",
    "plt.title('Distribution of image sizes')\n",
    "plt.ylabel('Frequency')\n",
    "sns.distplot(widths)\n",
    "\n",
    "plt.figure()\n",
    "plt.show()"
   ]
  },
  {
   "cell_type": "markdown",
   "metadata": {},
   "source": [
    "<div>\n",
    "    <p>\n",
    "We can see that the total number of found images is 243610, it means that <strong>all object id in meta.csv have corresponding images in imgs.zip</strong>. </p>\n",
    "    <p>\n",
    "    Besides, all images are in the gray mode, it means <strong>the image channel is 1</strong> for all of them.</p>\n",
    "    <p>\n",
    "    And as we mentioned before, it's clear that <strong>the images vary in size</strong> a lot: the smallest ones might more than 2 by 2 pixels, whereas the largest ones might up to 972 by 739 pixels. The mean value is <strong>98x98</strong> pixels</p>\n",
    "\n",
    "    \n",
    "\n",
    "</div>"
   ]
  },
  {
   "cell_type": "markdown",
   "metadata": {},
   "source": [
    "# Data Pre-processing\n",
    "<hr style=\"height:1px;border:none;color:#333;background-color:#333;\" />    "
   ]
  },
  {
   "cell_type": "markdown",
   "metadata": {},
   "source": [
    "In this section we concentrate into 4 main points:\n",
    "- Image size: for the CNN model, all the input images must have the same size. As mentioned in previous part, our images have different sizes. We need to figure out a solution for it.\n",
    "- Image augmentation: there are classes owing poor number of samples. To help the model clasify these classes, we will process some image augementation technique to increase the input for these categories.\n",
    "- Label preprocess: prepare data for one hot encoding process\n",
    "- Split data into testing set, training set and validation set.\n",
    "\n",
    "We define some necessary constant variables:"
   ]
  },
  {
   "cell_type": "code",
   "execution_count": 81,
   "metadata": {},
   "outputs": [],
   "source": [
    "#file path for data sets\n",
    "SM_TEST_DATA_FILEPATH = \"exp_test_data.npy\"\n",
    "SM_TRAIN_DATA_FILEPATH = \"exp_train_data.npy\"\n",
    "SM_VAL_DATA_FILEPATH = \"exp_val_data.npy\"\n",
    "TEST_DATA_FILEPATH = \"test_data.npy\"\n",
    "TRAIN_DATA_FILEPATH = \"train_data.npy\"\n",
    "VAL_DATA_FILEPATH = \"val_data.npy\"\n",
    "\n",
    "#standard image size and rescale ratio\n",
    "IMG_SIZE = 98\n",
    "RATIO = 0.5\n",
    "\n",
    "#total classes\n",
    "NUM_CLASSES = 39"
   ]
  },
  {
   "cell_type": "markdown",
   "metadata": {},
   "source": [
    "<div class=\"\">\n",
    "    <h3>1. Image resize</h3>\n",
    "</div>"
   ]
  },
  {
   "cell_type": "markdown",
   "metadata": {},
   "source": [
    "<div>\n",
    "<p>\n",
    "    Firstly we need to resize the images.\n",
    "</p>\n",
    "    In this challenge, we will try 2 approaches:\n",
    "    <ul>\n",
    "        <li><p>We simply rescale all images to a fixed size. From the chart, we see that the images peak at around from 80 to 110 in size. We caculated Average size for Width and Height and decided get 98x98 for resizing images.</p></li>\n",
    "        <li><p>We try to maintain ratio between different species while rescaling the images. It’s very easy for us to see that it’s a picture of a cat or dog, however it's not the case of plankton. And it's an extremely difficult task to computer. Therefore, we try to keep important features of images as much as possible. In this case, we get 98x98 as the standard size. All images are scaled with the ratio 0.5, if it's smaller than the standard size we will fill in it with white background, otherwise we simply resize them to 98x98.</p></li>\n",
    "    </ul>\n",
    "</div>"
   ]
  },
  {
   "cell_type": "markdown",
   "metadata": {},
   "source": [
    "Implementation for the first approach:"
   ]
  },
  {
   "cell_type": "code",
   "execution_count": 84,
   "metadata": {},
   "outputs": [],
   "source": [
    "def load_image(img_id, target_size=(IMG_SIZE, IMG_SIZE)):\n",
    "    img_path = 'imgs/' + str(int(img_id)) + '.jpg'\n",
    "    if img_path in img_files:\n",
    "        img = Image.open(img_files['imgs/' + str(int(img_id)) + '.jpg'])\n",
    "        img = img.convert('L')\n",
    "        img = img.resize(target_size, Image.ANTIALIAS)\n",
    "        img = np.array(img)\n",
    "        img = img.reshape(img.shape + (1,))\n",
    "    return img "
   ]
  },
  {
   "cell_type": "markdown",
   "metadata": {},
   "source": [
    "Implementation for the second approach:"
   ]
  },
  {
   "cell_type": "code",
   "execution_count": 85,
   "metadata": {},
   "outputs": [],
   "source": [
    "def adv_load_image(img_id, target_size=IMG_SIZE):\n",
    "    img_path = 'imgs/' + str(int(img_id)) + '.jpg'\n",
    "    if img_path in img_files:\n",
    "        img = Image.open(img_files['imgs/' + str(int(img_id)) + '.jpg'])\n",
    "        img = img.convert('L')\n",
    "        img_width, img_height = im.size\n",
    "        new_img_size = (int(img_width*RATIO), int(img_height*RATIO))\n",
    "        if(min(new_img_size) > target_size):\n",
    "            new_im = img.resize((target_size,target_size), Image.ANTIALIAS)\n",
    "        else:\n",
    "            img = img.resize(new_img_size, Image.ANTIALIAS)\n",
    "            new_im = Image.new(\"L\", (target_size, target_size), 255)\n",
    "            new_im.paste(img, ((target_size - new_img_size[0])//2,\n",
    "                    (target_size - new_img_size[1])//2))\n",
    "        img_array = np.array(new_im)\n",
    "        img_array = img_array.reshape(img_array.shape + (1,))\n",
    "    return img_array "
   ]
  },
  {
   "cell_type": "markdown",
   "metadata": {},
   "source": [
    "Visualize the difference between two approaches:"
   ]
  },
  {
   "cell_type": "code",
   "execution_count": 37,
   "metadata": {},
   "outputs": [
    {
     "data": {
      "image/png": "[encoded data removed]",
      "text/plain": [
       "<Figure size 432x288 with 1 Axes>"
      ]
     },
     "metadata": {},
     "output_type": "display_data"
    },
    {
     "data": {
      "image/png": "[encoded data removed]",
      "text/plain": [
       "<Figure size 432x288 with 1 Axes>"
      ]
     },
     "metadata": {},
     "output_type": "display_data"
    },
    {
     "data": {
      "image/png": "[encoded data removed]",
      "text/plain": [
       "<Figure size 432x288 with 1 Axes>"
      ]
     },
     "metadata": {},
     "output_type": "display_data"
    }
   ],
   "source": [
    "im = Image.open(img_files['imgs/32738711.jpg'])\n",
    "im1 = load_image(32738711)\n",
    "im2 = adv_load_image(32738711)\n",
    "\n",
    "plt.imshow(im, cmap = 'gist_gray')\n",
    "plt.show()\n",
    "plt.imshow(im1[:,:,0], cmap = 'gist_gray')\n",
    "plt.show()\n",
    "plt.imshow(im2[:,:,0], cmap = 'gist_gray')\n",
    "plt.show()"
   ]
  },
  {
   "cell_type": "markdown",
   "metadata": {},
   "source": [
    "We can see the the approach 1 makes the shape of object modified while the approach 2 keeps the object shape and its ratio to others. It seems that approach 2 is more potential to our model. However we will do the experiments on these two approaches."
   ]
  },
  {
   "cell_type": "markdown",
   "metadata": {},
   "source": [
    "<div class=\"\">\n",
    "    <h3>2. Image augmentation</h3>\n",
    "</div>"
   ]
  },
  {
   "cell_type": "markdown",
   "metadata": {},
   "source": [
    "Now let's discuss about image augmentation. To increase the size of the training data set, especially when little data is available for a particular class, we will create modified versions of images before feed them into the network. The augmentation techniques can create variations of the images that can improve the ability of the fit models to generalize what they have learned to new images. We used ImageDataGenerator, only applied to the training dataset, and not to the validation or test dataset."
   ]
  },
  {
   "cell_type": "markdown",
   "metadata": {},
   "source": [
    "<div>\n",
    "    <p>There are a wide range of techniques are supported, we will focus on some main types of data augmentation techniques for image data; specifically:</p>\n",
    "    <li> Image rotations via the rotation_range argument</li>\n",
    "    <li> Image shifts via the width_shift_range and height_shift_range arguments.</li>\n",
    "    <li> Image shears via the shear_range arguments.</li>\n",
    "    <li> Image zoom via the zoom_range argument.</li>\n",
    "    <li> Image flips via the horizontal_flip arguments.</li>\n",
    "    <br/>\n",
    "    <p>Here we simulate how images are modified due to the Data augmentation. </p>\n",
    "</div>"
   ]
  },
  {
   "cell_type": "code",
   "execution_count": 38,
   "metadata": {},
   "outputs": [
    {
     "name": "stderr",
     "output_type": "stream",
     "text": [
      "Using TensorFlow backend.\n"
     ]
    },
    {
     "data": {
      "image/png": "[encoded data removed]",
      "text/plain": [
       "<Figure size 432x288 with 9 Axes>"
      ]
     },
     "metadata": {},
     "output_type": "display_data"
    }
   ],
   "source": [
    "from keras.preprocessing.image import ImageDataGenerator, array_to_img, img_to_array, load_img\n",
    "# create image data augmentation generator\n",
    "datagen = ImageDataGenerator(\n",
    "        rotation_range=15,\n",
    "        width_shift_range=0.1,\n",
    "        height_shift_range=0.1,\n",
    "        shear_range=0.01,\n",
    "        zoom_range=[0.9, 1.25],\n",
    "        horizontal_flip=True)\n",
    "\n",
    "img = load_img(img_files['imgs/32738712.jpg'])\n",
    "# convert to numpy array\n",
    "data = img_to_array(img)\n",
    "# expand dimension to one sample\n",
    "samples = np.expand_dims(data, 0)\n",
    "# prepare iterator\n",
    "it = datagen.flow(samples, batch_size=1)\n",
    "# generate samples and plot\n",
    "for i in range(9):\n",
    "    # define subplot\n",
    "    plt.subplot(330 + 1 + i)\n",
    "    # generate batch of images\n",
    "    batch = it.next()\n",
    "    # convert to unsigned integers for viewing\n",
    "    image = batch[0].astype('uint32')\n",
    "    # plot raw pixel data\n",
    "    plt.imshow(image)\n",
    "    \n",
    "# show the figure\n",
    "plt.show()"
   ]
  },
  {
   "cell_type": "markdown",
   "metadata": {},
   "source": [
    "<div class=\"\">\n",
    "    <h3>3. Label preprocess</h3>\n",
    "</div>"
   ]
  },
  {
   "cell_type": "markdown",
   "metadata": {},
   "source": [
    "<p>Our challenge is multiclass classification, to use CNN we need to do one hot encoding on the labels. At the first step, we convert our label from string into integer:</p>\n"
   ]
  },
  {
   "cell_type": "code",
   "execution_count": 86,
   "metadata": {},
   "outputs": [
    {
     "name": "stdout",
     "output_type": "stream",
     "text": [
      "        objid  level2_mapping\n",
      "0  32756761.0              30\n",
      "1  32759364.0              30\n",
      "2  32758055.0              20\n",
      "3  32758988.0              37\n",
      "4  32760598.0              37\n",
      "Target data shape:  (242607, 2)\n"
     ]
    }
   ],
   "source": [
    "level2_mapping = list_level2[['index', 'level2']].values\n",
    "level2_mapping_dict = {}\n",
    "level2_mapping_dict = {i[1] : i[0] for i in level2_mapping}\n",
    "\n",
    "df_meta['level2_mapping'] = df_meta['level2'].replace(level2_mapping_dict)\n",
    "print(df_meta[['objid', 'level2_mapping']][:5])\n",
    "target_data = df_meta[['objid', 'level2_mapping']].values\n",
    "\n",
    "print(\"Target data shape: \", target_data.shape)\n"
   ]
  },
  {
   "cell_type": "markdown",
   "metadata": {},
   "source": [
    "<div class=\"\">\n",
    "    <h3>4. Data splitting</h3>\n",
    "</div>"
   ]
  },
  {
   "cell_type": "markdown",
   "metadata": {},
   "source": [
    "<p>Now our data is ready in the <strong>target_data</strong>. It is an array contains image id in the first dimension and their corresponding label in the second dimension. We split the data into three sets: a training, a validation, and a test set. </p>\n",
    "    <li>A training set is used to train a network, where loss values are calculated via forward propagation and learnable parameters are updated via backpropagation.</li> \n",
    "    <li>A validation set is used to monitor the model performance during the training process, fine-tune hyperparameters, and perform model selection.</li> \n",
    "    <li>A test set is held-out to used only once at the very end of the project in order to evaluate the performance of the final model.</li> \n",
    "    <br/>\n",
    "    <p>\n",
    "    After splited, these arrays will be stored in files and loaded later in case we need to continually train our model.  \n",
    "    Base on different purpose, we use different ratio to divide the data. </p>\n",
    "<li>Small data for experiment purpose</li>\n",
    "<li>Data for real training process</li>\n",
    "<br/>\n",
    "<p>Because the number of samples per class is variant and the smallest one has only 12 images, we prefer to keep the ratio between data sets while splitting them. The argument <strong>stratify</strong> is used for this purpose.</p>\n"
   ]
  },
  {
   "cell_type": "code",
   "execution_count": 53,
   "metadata": {},
   "outputs": [],
   "source": [
    "from sklearn.model_selection import train_test_split"
   ]
  },
  {
   "cell_type": "code",
   "execution_count": 59,
   "metadata": {},
   "outputs": [
    {
     "name": "stdout",
     "output_type": "stream",
     "text": [
      "Small train:  (31052, 2)\n",
      "Small val:  (7764, 2)\n",
      "Small test:  (9705, 2)\n"
     ]
    }
   ],
   "source": [
    "#use small data for experiment\n",
    "small_target_data, rest_small_target_data = train_test_split(target_data, train_size=0.2, test_size=0.8, stratify=target_data[:,1])\n",
    "sm_train_data, sm_test_data = train_test_split(small_target_data, train_size=0.8, test_size=0.2, stratify=small_target_data[:,1])\n",
    "sm_train_data, sm_val_data = train_test_split(sm_train_data, train_size=0.8, test_size=0.2, stratify=sm_train_data[:,1])\n",
    "\n",
    "print(\"Small train: \", sm_train_data.shape)\n",
    "print(\"Small val: \", sm_val_data.shape)\n",
    "print(\"Small test: \", sm_test_data.shape)\n",
    "\n",
    "np.save(SM_TEST_DATA_FILEPATH, sm_test_data)\n",
    "np.save(SM_TRAIN_DATA_FILEPATH, sm_train_data)\n",
    "np.save(SM_VAL_DATA_FILEPATH, sm_val_data)\n"
   ]
  },
  {
   "cell_type": "code",
   "execution_count": 61,
   "metadata": {},
   "outputs": [
    {
     "name": "stdout",
     "output_type": "stream",
     "text": [
      "Train:  (155268, 2)\n",
      "Val:  (38817, 2)\n",
      "Test:  (48522, 2)\n"
     ]
    }
   ],
   "source": [
    "#for the real train\n",
    "train_data, test_data = train_test_split(target_data, train_size=0.8, test_size=0.2, stratify=target_data[:,1])\n",
    "train_data, val_data = train_test_split(train_data, train_size=0.8, test_size=0.2, stratify=train_data[:,1])\n",
    "\n",
    "print(\"Train: \", train_data.shape)\n",
    "print(\"Val: \", val_data.shape)\n",
    "print(\"Test: \", test_data.shape)\n",
    "\n",
    "np.save(TEST_DATA_FILEPATH, test_data)\n",
    "np.save(TRAIN_DATA_FILEPATH, train_data)\n",
    "np.save(VAL_DATA_FILEPATH, val_data)\n"
   ]
  },
  {
   "cell_type": "markdown",
   "metadata": {},
   "source": [
    "Excep the first run, we can load the data that are splitted already from files"
   ]
  },
  {
   "cell_type": "code",
   "execution_count": 21,
   "metadata": {},
   "outputs": [],
   "source": [
    "#load data from files\n",
    "test_data = np.load(TEST_DATA_FILEPATH)\n",
    "train_data = np.load(TRAIN_DATA_FILEPATH)\n",
    "val_data = np.load(VAL_DATA_FILEPATH)"
   ]
  },
  {
   "cell_type": "markdown",
   "metadata": {},
   "source": [
    "# Model selection\n",
    "<hr style=\"height:1px;border:none;color:#333;background-color:#333;\" />    "
   ]
  },
  {
   "cell_type": "markdown",
   "metadata": {},
   "source": [
    "<p>The difficulty of this challenge is the size of the dataset: about 243610 examples for around 40 classes. We do not have the rich knowledge about features of plankton so we came out with an approach which is very popular in computer vision aspect: Convolution Neural Networks. It is also a chance for us to learn this model.</p> "
   ]
  },
  {
   "cell_type": "markdown",
   "metadata": {},
   "source": [
    "<h3>1. Convolution Neral Network</h3>"
   ]
  },
  {
   "cell_type": "markdown",
   "metadata": {},
   "source": [
    "<div>\n",
    "    <strong>Why CNN?</strong>\n",
    "    <li>Convolutional Neural Networks have been one of the most influential innovations in the field of computer vision. They have performed a lot better than traditional computer vision and have produced state-of-the-art results.</li>    \n",
    "    <strong>Advantages:</strong>\n",
    "    <li> Unlike most of the existing image classification algorithms, CNN based systems do not depend on features engineering and they can be efficiently extended to encompass new classes. CNN does not require hand-crafted feature extraction. CNN architectures do not necessarily require segmentation of tumors or organs by human experts. </li>    \n",
    "    <strong>Disadvantages: </strong>\n",
    "   <li>CNN is far more data hungry because of its millions of learnable parameters to estimate, and, thus, is more computationally expensive, resulting in requiring graphical processing units (GPUs) for model training.</li>    \n",
    "   <li>The probably best-known disadvantage of Neural Networks is their “black box” nature, meaning that you don’t know how and why your NN came up with a certain output. For example, when you put in an image of a cat into a neural network and it predicts it to be a car, it is very hard to understand what caused it to came up with this prediction. When you have features that are human interpretable, it is much easier to understand the cause of its mistake. </li>\n",
    "    <li>Usually, Neural Networks are also more computationally expensive.</li>\n",
    "    <br>\n",
    "    <h3>To build the model, we learn these layers to add to the model:</h3>\n",
    "    <p><strong>Convolution Layer:</strong> Convolution is the first layer to extract features from an input image. Convolution preserves the relationship between pixels by learning image features using small squares of input data. It is a mathematical operation that takes two inputs such as image matrix and a filter or kernal We used Convolutional Layer with the input is a 32 x 32 array of pixel values. The main processing component of this layer is a filter or mask which is a matrix of weights. This mask is applied on a specified region of the feature map of the image. The purpose of this mask is to learn and identify basic pattern of which the objects in the image are made up of. As these basic shapes mostly form the edges of the object, the mask learns edge detection of the discriminating object and filters out all other features. The more filters, the greater the depth of the activation map, and the more information we have about the input volume.</p>\n",
    "    <p><strong>Non Linearity (ReLU):</strong> ReLU stands for Rectified Linear Unit for a non-linear operation. The output is ƒ(x) = max(0,x).\n",
    "ReLU’s purpose is to introduce non-linearity in our ConvNet. Since, the real world data would want our ConvNet to learn would be non-negative linear values. ReLU is applied after the Convolutional layer, to induce sparsity in the features and to solve the problem of vanishing gradient.</p>\n",
    "    <p><strong>Pooling layers:</strong> section would reduce the number of parameters when the images are too large. Spatial pooling also called subsampling or downsampling which reduces the dimensionality of each map but retains the important information. The most popular form of pooling operation is max pooling, which extracts patches from the input feature maps, outputs the maximum value in each patch, and discards all the other values.</p>\n",
    "    <p><strong>Dropout Layers:</strong> This layer “drops out” a random set of activations in that layer by setting them to zero. It forces the network to be redundant. It makes sure that the network isn’t getting too “fitted” to the training data and thus helps alleviate the overfitting problem.  </p>\n",
    "    <p><strong>Fully Connected Layer:</strong> This layer basically takes an input volume (whatever the output is of the conv or ReLU or pool layer preceding it) and outputs an N dimensional vector where N is the number of classes that the program has to choose from.</p>\n",
    "    \n",
    "</div>"
   ]
  },
  {
   "cell_type": "markdown",
   "metadata": {},
   "source": [
    "<h3>2. Model initalization</h3>"
   ]
  },
  {
   "cell_type": "markdown",
   "metadata": {},
   "source": [
    "In this section, we define some necessary functions for our model. \n",
    "\n",
    "<strong>Data generator</strong>\n",
    "As discussed, our data sets contain information about the image ids and their label. To resolve the problem with big size of data, we will create a generator to get a bunch of data to process for each time. We use the batch size of 32 as default.  "
   ]
  },
  {
   "cell_type": "markdown",
   "metadata": {},
   "source": [
    "The function will return a matrix of image after normalization and their hot encoded label. If the argument augment is set to True, it will do random modifications on the images. It also makes sure that data is suffered before each epoch.\n"
   ]
  },
  {
   "cell_type": "code",
   "execution_count": 73,
   "metadata": {},
   "outputs": [],
   "source": [
    "BATCH_SIZE = 32"
   ]
  },
  {
   "cell_type": "code",
   "execution_count": 72,
   "metadata": {},
   "outputs": [],
   "source": [
    "\n",
    "from keras.utils import to_categorical\n",
    "from keras.preprocessing.image import ImageDataGenerator\n",
    "\n",
    "train_data_gen = ImageDataGenerator(\n",
    "    rotation_range=360,\n",
    "    width_shift_range=0.2,\n",
    "    height_shift_range=0.2,\n",
    "    shear_range=0.01,\n",
    "    zoom_range=[0.9, 1.25],\n",
    "    horizontal_flip=True,\n",
    ")\n",
    "\n",
    "# generator function to return images batchwise\n",
    "def generator(data, augment=False, batch_size=BATCH_SIZE):\n",
    "    while True:\n",
    "        # Randomize the indices to make an array\n",
    "        suffer_data = np.random.permutation(data)\n",
    "        for batch in range(0, len(suffer_data), batch_size):\n",
    "            # slice out the current batch according to batch-size\n",
    "            current_batch = suffer_data[batch:(batch + batch_size)]\n",
    "            \n",
    "            # load image\n",
    "            x_train = np.array(list(map(load_image, current_batch[:,0])))\n",
    "            y_train = to_categorical(current_batch[:,1], num_classes=NUM_CLASSES)\n",
    "            \n",
    "            # Normalize data\n",
    "            x_train = x_train.astype('float32') / 255\n",
    "            \n",
    "            if(augment == True):\n",
    "                x_batch_train, y_batch_train = train_data_gen.flow(x_train, y_train, batch_size=batch_size).next()\n",
    "                yield (x_batch_train, y_batch_train)\n",
    "            else:\n",
    "                yield (x_train, y_train)"
   ]
  },
  {
   "cell_type": "markdown",
   "metadata": {},
   "source": [
    "Because we use custom generator, we need to calculate the steps for each epoch of training, valiation and testing phases.\n"
   ]
  },
  {
   "cell_type": "code",
   "execution_count": 58,
   "metadata": {},
   "outputs": [],
   "source": [
    "steps_per_epoch = int(np.ceil(len(train_data) / float(BATCH_SIZE)))\n",
    "validation_steps = int(np.ceil(len(val_data) / float(BATCH_SIZE)))\n",
    "test_steps = int(np.ceil(len(test_data) / float(BATCH_SIZE)))"
   ]
  },
  {
   "cell_type": "markdown",
   "metadata": {},
   "source": [
    "<strong>Model callbacks</strong>\n",
    "After each epoch, we will save our best weights according to the validation accuracy and write the stream out into the csv log file."
   ]
  },
  {
   "cell_type": "code",
   "execution_count": 16,
   "metadata": {},
   "outputs": [],
   "source": [
    "from keras.callbacks import ModelCheckpoint\n",
    "from keras.callbacks import CSVLogger\n",
    "\n",
    "# checkpoint\n",
    "WEIGHT_FILEPATH = \"exp.weights.best.hdf5\"\n",
    "OUTPUT_FILEPATH = \"exp.output.log\"\n",
    "checkpoint = ModelCheckpoint(WEIGHT_FILEPATH, monitor='val_acc', verbose=1, save_best_only=True, mode='max')\n",
    "\n",
    "csvlog = CSVLogger(OUTPUT_FILEPATH, separator=',', append=True)"
   ]
  },
  {
   "cell_type": "markdown",
   "metadata": {},
   "source": [
    "\n",
    "Import necessary packages"
   ]
  },
  {
   "cell_type": "code",
   "execution_count": 62,
   "metadata": {},
   "outputs": [],
   "source": [
    "from keras.models import Sequential\n",
    "from keras.layers import Dense, Dropout, Flatten\n",
    "from keras.layers import Conv2D, MaxPooling2D"
   ]
  },
  {
   "cell_type": "markdown",
   "metadata": {},
   "source": [
    "<h3>3. Experiment for model selection</h3>"
   ]
  },
  {
   "cell_type": "markdown",
   "metadata": {},
   "source": [
    "In this section, we summary what we have done to find out the final architecture for our model. Our strategy is that we begin with a simple/popular network, test and observe the result, then modify the model if needed like adding more layers, etc. "
   ]
  },
  {
   "cell_type": "code",
   "execution_count": 66,
   "metadata": {},
   "outputs": [],
   "source": [
    "model = Sequential()\n",
    "model.add(Conv2D(32, kernel_size = (3, 3), activation='relu', input_shape=(IMG_SIZE, IMG_SIZE, 1)))\n",
    "model.add(MaxPooling2D(pool_size=(2,2)))\n",
    "\n",
    "model.add(Conv2D(64, kernel_size=(3,3), activation='relu'))\n",
    "model.add(MaxPooling2D(pool_size=(2,2)))\n",
    "\n",
    "model.add(Conv2D(128, kernel_size=(3,3), activation='relu'))\n",
    "model.add(MaxPooling2D(pool_size=(2,2)))\n",
    "\n",
    "model.add(Flatten())\n",
    "model.add(Dense(128, activation='relu'))\n",
    "model.add(Dense(128, activation='relu'))\n",
    "model.add(Dense(NUM_CLASSES, activation = 'softmax'))"
   ]
  },
  {
   "cell_type": "code",
   "execution_count": 67,
   "metadata": {},
   "outputs": [
    {
     "name": "stdout",
     "output_type": "stream",
     "text": [
      "_________________________________________________________________\n",
      "Layer (type)                 Output Shape              Param #   \n",
      "=================================================================\n",
      "conv2d_5 (Conv2D)            (None, 96, 96, 32)        320       \n",
      "_________________________________________________________________\n",
      "max_pooling2d_5 (MaxPooling2 (None, 48, 48, 32)        0         \n",
      "_________________________________________________________________\n",
      "conv2d_6 (Conv2D)            (None, 46, 46, 64)        18496     \n",
      "_________________________________________________________________\n",
      "max_pooling2d_6 (MaxPooling2 (None, 23, 23, 64)        0         \n",
      "_________________________________________________________________\n",
      "conv2d_7 (Conv2D)            (None, 21, 21, 96)        55392     \n",
      "_________________________________________________________________\n",
      "max_pooling2d_7 (MaxPooling2 (None, 10, 10, 96)        0         \n",
      "_________________________________________________________________\n",
      "conv2d_8 (Conv2D)            (None, 8, 8, 128)         110720    \n",
      "_________________________________________________________________\n",
      "max_pooling2d_8 (MaxPooling2 (None, 4, 4, 128)         0         \n",
      "_________________________________________________________________\n",
      "flatten_2 (Flatten)          (None, 2048)              0         \n",
      "_________________________________________________________________\n",
      "dense_3 (Dense)              (None, 128)               262272    \n",
      "_________________________________________________________________\n",
      "dense_4 (Dense)              (None, 128)               16512     \n",
      "_________________________________________________________________\n",
      "dense_5 (Dense)              (None, 39)                5031      \n",
      "=================================================================\n",
      "Total params: 468,743\n",
      "Trainable params: 468,743\n",
      "Non-trainable params: 0\n",
      "_________________________________________________________________\n"
     ]
    }
   ],
   "source": [
    "model.summary()"
   ]
  },
  {
   "cell_type": "markdown",
   "metadata": {},
   "source": [
    "<div class=\"alert alert-warning\">\n",
    "<p>Compile the model</p>\n",
    "</div>"
   ]
  },
  {
   "cell_type": "code",
   "execution_count": 68,
   "metadata": {},
   "outputs": [],
   "source": [
    "model.compile(loss='binary_crossentropy', optimizer='adam', metrics = ['accuracy'])"
   ]
  },
  {
   "cell_type": "markdown",
   "metadata": {},
   "source": [
    "<div class=\"alert alert-warning\">\n",
    "<p>In the case of continue training, we can load the weights which has been saved before into our model.</p>\n",
    "</div>"
   ]
  },
  {
   "cell_type": "code",
   "execution_count": 21,
   "metadata": {},
   "outputs": [],
   "source": [
    "#load data and weights for continue training\n",
    "model.load_weights(WEIGHT_FILEPATH)"
   ]
  },
  {
   "cell_type": "markdown",
   "metadata": {},
   "source": [
    "<div class=\"alert alert-warning\">\n",
    "<p>Now everything is ready, we begin train our model. For experiment purpose, we choose a batch size of 32 and number of epoch of 10.</p>\n",
    "</div>"
   ]
  },
  {
   "cell_type": "code",
   "execution_count": 30,
   "metadata": {},
   "outputs": [
    {
     "name": "stdout",
     "output_type": "stream",
     "text": [
      "Epoch 1/10\n",
      "971/971 [==============================] - 335s 345ms/step - loss: 1.2784 - acc: 0.6289 - val_loss: 1.0526 - val_acc: 0.6770\n",
      "\n",
      "Epoch 00001: val_acc improved from -inf to 0.67697, saving model to exp.weights.best.hdf5\n",
      "Epoch 2/10\n",
      "971/971 [==============================] - 446s 460ms/step - loss: 0.9192 - acc: 0.7037 - val_loss: 0.8693 - val_acc: 0.7175\n",
      "\n",
      "Epoch 00002: val_acc improved from 0.67697 to 0.71754, saving model to exp.weights.best.hdf5\n",
      "Epoch 3/10\n",
      "971/971 [==============================] - 516s 532ms/step - loss: 0.7686 - acc: 0.7438 - val_loss: 0.8850 - val_acc: 0.7147\n",
      "\n",
      "Epoch 00003: val_acc did not improve from 0.71754\n",
      "Epoch 4/10\n",
      "971/971 [==============================] - 604s 622ms/step - loss: 0.6543 - acc: 0.7745 - val_loss: 0.7995 - val_acc: 0.7425\n",
      "\n",
      "Epoch 00004: val_acc improved from 0.71754 to 0.74253, saving model to exp.weights.best.hdf5\n",
      "Epoch 5/10\n",
      "971/971 [==============================] - 563s 580ms/step - loss: 0.5438 - acc: 0.8077 - val_loss: 0.8366 - val_acc: 0.7366\n",
      "\n",
      "Epoch 00005: val_acc did not improve from 0.74253\n",
      "Epoch 6/10\n",
      "971/971 [==============================] - 371s 382ms/step - loss: 0.4265 - acc: 0.8422 - val_loss: 0.8863 - val_acc: 0.7370\n",
      "\n",
      "Epoch 00006: val_acc did not improve from 0.74253\n",
      "Epoch 7/10\n",
      "971/971 [==============================] - 447s 461ms/step - loss: 0.3245 - acc: 0.8791 - val_loss: 1.1166 - val_acc: 0.7160\n",
      "\n",
      "Epoch 00007: val_acc did not improve from 0.74253\n",
      "Epoch 8/10\n",
      "971/971 [==============================] - 558s 575ms/step - loss: 0.2448 - acc: 0.9074 - val_loss: 1.2056 - val_acc: 0.7150\n",
      "\n",
      "Epoch 00008: val_acc did not improve from 0.74253\n",
      "Epoch 9/10\n",
      "971/971 [==============================] - 536s 553ms/step - loss: 0.1862 - acc: 0.9302 - val_loss: 1.3652 - val_acc: 0.7217\n",
      "\n",
      "Epoch 00009: val_acc did not improve from 0.74253\n",
      "Epoch 10/10\n",
      "971/971 [==============================] - 549s 566ms/step - loss: 0.1618 - acc: 0.9414 - val_loss: 1.4849 - val_acc: 0.7173\n",
      "\n",
      "Epoch 00010: val_acc did not improve from 0.74253\n"
     ]
    },
    {
     "data": {
      "text/plain": [
       "<keras.callbacks.History at 0x7f8959b7c518>"
      ]
     },
     "execution_count": 30,
     "metadata": {},
     "output_type": "execute_result"
    }
   ],
   "source": [
    "#final run n1\n",
    "#with augaument\n",
    "model.fit_generator(generator(train_data, True), steps_per_epoch = steps_per_epoch, epochs = 10, verbose = 1,\n",
    "                   validation_data=generator(val_data), validation_steps = validation_steps, callbacks=[checkpoint,csvlog])\n"
   ]
  },
  {
   "cell_type": "markdown",
   "metadata": {},
   "source": [
    "<h4>3.1. Experiments on layers</h4>"
   ]
  },
  {
   "cell_type": "markdown",
   "metadata": {},
   "source": [
    "<div>\n",
    "    Because the Image Size we chose is quite small so we decided to carry out the small experiment with small filters as 3x3. We chose some layers from simple to complexity.\n",
    "    <div>        \n",
    "        <p>First, we run the <strong>Experment 1</strong> with these layers:</p>\n",
    "    <li>Conv2D(32, kernel_size = (3, 3), activation='relu', input_shape=(IMG_SIZE, IMG_SIZE, 1))</li>\n",
    "    <li>MaxPooling2D(pool_size=(2,2))</li>\n",
    "    <li>Conv2D(64, kernel_size=(3,3), activation='relu')</li>\n",
    "    <li>MaxPooling2D(pool_size=(2,2))</li>\n",
    "    <li>Conv2D(128, kernel_size=(3,3), activation='relu')</li>\n",
    "    <li>MaxPooling2D(pool_size=(2,2))</li>\n",
    "    <li>Flatten()</li>\n",
    "    <li>Dense(128, activation='relu')</li>\n",
    "    <li>Dense(128, activation='relu')</li>\n",
    "    <li>Dense(NUM_CLASSES, activation = 'softmax')</li>\n",
    "    <p><strong>Result:</strong> Loss score: 0.6543, accuracy score: 0.7745, validation loss score: 0.7995, validation accuracy score: 0.7425. From the Epoch 4th, the validation accuracy score reached to the peak while the validation accuracy score decreased in the next Epochs. It seems data trainning is overfitting.</p>\n",
    "    <p>Second, we run the <strong>Experment 2</strong>, add a Convolutional Layer with the input is a 96 x 96 array:</p>\n",
    "    <li>Conv2D(32, kernel_size = (3, 3), activation='relu', input_shape=(IMG_SIZE, IMG_SIZE, 1))</li>\n",
    "    <li>MaxPooling2D(pool_size=(2,2))</li>\n",
    "    <li>Conv2D(64, kernel_size=(3,3), activation='relu')</li>\n",
    "    <li>MaxPooling2D(pool_size=(2,2))</li>\n",
    "    <li>Conv2D(96, kernel_size=(3,3), activation='relu')</li>\n",
    "    <li>MaxPooling2D(pool_size=(2,2))</li>\n",
    "    <li>Conv2D(128, kernel_size=(3,3), activation='relu')</li>\n",
    "    <li>MaxPooling2D(pool_size=(2,2))</li>\n",
    "    <li>Flatten()</li>\n",
    "    <li>Dense(128, activation='relu')</li>\n",
    "    <li>Dense(NUM_CLASSES, activation = 'softmax')</li>\n",
    "    <p><strong>Result:</strong> Loss score: 0.5030, accuracy score: 0.8180, validation loss score: 0.7669, validation accuracy score: 0.7546. From the Epoch 7th, the validation accuracy score reached to the highest. It improves a bit versus Experiment 1.</p>\n",
    "    <p>Third, we run the <strong>Experment 3</strong>, add a some Dropout Layers to reduce the overfitting:</p>\n",
    "    <li>Conv2D(32, kernel_size = (3, 3), activation='relu', input_shape=(IMG_SIZE, IMG_SIZE, 1))</li>\n",
    "    <li>MaxPooling2D(pool_size=(2,2))</li>\n",
    "    <li>Conv2D(64, kernel_size=(3,3), activation='relu')</li>\n",
    "    <li>MaxPooling2D(pool_size=(2,2))</li>\n",
    "    <li>Conv2D(128, kernel_size=(3,3), activation='relu')</li>\n",
    "    <li>MaxPooling2D(pool_size=(2,2))</li>\n",
    "    <li>Dropout(0.2)</li>\n",
    "    <li>Flatten()</li>\n",
    "    <li>Dense(128, activation='relu')</li>\n",
    "    <li>Dropout(0.2)</li>\n",
    "    <li>Dense(128, activation='relu')</li>\n",
    "    <li>Dropout(0.2)</li>\n",
    "    <li>Dense(NUM_CLASSES, activation = 'softmax')</li>\n",
    "    <p><strong>Result:</strong> Loss score: 0.6198, accuracy score: 0.7684, validation loss score: 0.8211, validation accuracy score: 0.7429. From the Epoch 8th, the validation accuracy score reached to the highest value. The overfitting seems improve versus Experiment 1.</p>\n",
    "    </div>\n",
    "</div>"
   ]
  },
  {
   "cell_type": "markdown",
   "metadata": {},
   "source": [
    "<h4>3.2. Experiments on data augmentation</h4>"
   ]
  },
  {
   "cell_type": "markdown",
   "metadata": {},
   "source": [
    "<h4>3.3. Experiments on image resize</h4>"
   ]
  },
  {
   "cell_type": "markdown",
   "metadata": {},
   "source": [
    "# Model Evaluation\n",
    "<hr style=\"height:1px;border:none;color:#333;background-color:#333;\" />    "
   ]
  },
  {
   "cell_type": "code",
   "execution_count": 50,
   "metadata": {},
   "outputs": [
    {
     "name": "stdout",
     "output_type": "stream",
     "text": [
      "190/190 [==============================] - 78s 413ms/step\n"
     ]
    },
    {
     "data": {
      "text/plain": [
       "[0.7457601272687884, 0.7493095915721729]"
      ]
     },
     "execution_count": 50,
     "metadata": {},
     "output_type": "execute_result"
    }
   ],
   "source": [
    "\n",
    "model.evaluate_generator(generator(test_data),steps=test_steps,verbose = 1)\n"
   ]
  },
  {
   "cell_type": "code",
   "execution_count": 47,
   "metadata": {},
   "outputs": [
    {
     "name": "stdout",
     "output_type": "stream",
     "text": [
      "(24261, 98, 98, 1) (24261, 39)\n"
     ]
    }
   ],
   "source": [
    "test_generator = generator(test_data,False,batch_size=test_data.shape[0])\n",
    "x_test, y_test_true = next(test_generator)\n",
    "print(x_test.shape, y_test_true.shape)"
   ]
  },
  {
   "cell_type": "code",
   "execution_count": 48,
   "metadata": {},
   "outputs": [
    {
     "name": "stdout",
     "output_type": "stream",
     "text": [
      "24261/24261 [==============================] - 87s 4ms/step\n",
      "(24261, 39)\n"
     ]
    }
   ],
   "source": [
    "y_test_predict = model.predict(x_test, verbose=1)\n",
    "print(y_test_predict.shape)"
   ]
  },
  {
   "cell_type": "code",
   "execution_count": 49,
   "metadata": {},
   "outputs": [
    {
     "name": "stdout",
     "output_type": "stream",
     "text": [
      "[30 30 32 14 30]\n",
      "[30 30 30 14 30]\n",
      "score: 0.3084183548366016\n"
     ]
    },
    {
     "name": "stderr",
     "output_type": "stream",
     "text": [
      "/usr/local/lib/python3.5/dist-packages/sklearn/metrics/classification.py:1135: UndefinedMetricWarning: F-score is ill-defined and being set to 0.0 in labels with no predicted samples.\n",
      "  'precision', 'predicted', average, warn_for)\n"
     ]
    }
   ],
   "source": [
    "from sklearn.metrics import f1_score\n",
    "\n",
    "y_true = np.argmax(y_test_true, axis=1)\n",
    "y_pred = np.argmax(y_test_predict, axis=1)\n",
    "\n",
    "score = f1_score(y_true, y_pred, average='macro') \n",
    "print(\"score:\", score)"
   ]
  },
  {
   "cell_type": "markdown",
   "metadata": {},
   "source": [
    "Some form of pre-evaluation will inevitably be required in the preceding sections in order to both select an appropriate model and configure its parameters appropriately.\n",
    "In this final section, you may evaluate other aspects of the model such as:\n",
    "\n",
    "- Assessing the running time of your model;\n",
    "- Determining whether some aspects can be parallelised;\n",
    "- Training the model with smaller subsets of the data.\n",
    "- etc.\n",
    "\n",
    "For the evaluation of the classification results, you should use the F1 measure (see Submission Instructions). Here the focus should be on level2 classification. A classification evaluation for other labels is optional.\n",
    "\n",
    "Please note that you are responsible for creating a sensible train/validation/test split. There is no predefined held-out test data."
   ]
  },
  {
   "cell_type": "markdown",
   "metadata": {},
   "source": [
    "<div class=\"alert alert-danger\">\n",
    "    <b>N.B.</b> Please note that the items listed under each heading are neither exhaustive, nor are you expected to explore every given suggestion.\n",
    "    Nonetheless, these should serve as a guideline for your work in both this and upcoming challenges.\n",
    "    As always, you should use your intuition and understanding in order to decide which analysis best suits the assigned task.\n",
    "</div>"
   ]
  },
  {
   "cell_type": "markdown",
   "metadata": {},
   "source": [
    "<div class=\"\">\n",
    "    <h2>Submission Instructions</h2>\n",
    "    <hr style=\"height:1px;border:none;color:#333;background-color:#333;\" />    \n",
    "</div>"
   ]
  },
  {
   "cell_type": "markdown",
   "metadata": {},
   "source": [
    "- The goal of this challenge is to construct a model for predicting Plankton (taxonomy level 2) classes.\n",
    "\n",
    "- Your submission will be the <b>HTML version of your notebook</b> exploring the various modelling aspects described above.\n",
    "\n",
    "- At the end of the notebook you should indicate your final evaluation score on a held-out test set. As an evaluation metric you should use the F1 score with the *average=macro* option as it is provided by the scikit-learn library. See the following link for more information:\n",
    "        \n",
    "https://scikit-learn.org/stable/modules/generated/sklearn.metrics.f1_score.html"
   ]
  }
 ],
 "metadata": {
  "kernelspec": {
   "display_name": "Python 3",
   "language": "python",
   "name": "python3"
  },
  "language_info": {
   "codemirror_mode": {
    "name": "ipython",
    "version": 3
   },
   "file_extension": ".py",
   "mimetype": "text/x-python",
   "name": "python",
   "nbconvert_exporter": "python",
   "pygments_lexer": "ipython3",
   "version": "3.5.2"
  }
 },
 "nbformat": 4,
 "nbformat_minor": 2
}
